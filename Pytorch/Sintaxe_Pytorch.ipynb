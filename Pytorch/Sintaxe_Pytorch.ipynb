{
  "nbformat": 4,
  "nbformat_minor": 0,
  "metadata": {
    "colab": {
      "provenance": [],
      "gpuType": "T4"
    },
    "kernelspec": {
      "name": "python3",
      "display_name": "Python 3"
    },
    "language_info": {
      "name": "python"
    },
    "accelerator": "GPU"
  },
  "cells": [
    {
      "cell_type": "markdown",
      "source": [
        "Tipos de tensores"
      ],
      "metadata": {
        "id": "EVw_1PexYNLD"
      }
    },
    {
      "cell_type": "code",
      "execution_count": null,
      "metadata": {
        "colab": {
          "base_uri": "https://localhost:8080/"
        },
        "id": "o1pHa-hVYLL5",
        "outputId": "f7c68a61-a61a-41c9-de42-015aa4bd28d4"
      },
      "outputs": [
        {
          "output_type": "stream",
          "name": "stdout",
          "text": [
            "torch.float32\n",
            "tensor([[1., 2., 3.],\n",
            "        [4., 5., 6.]])\n",
            "torch.float64\n",
            "tensor([[1., 2., 3.],\n",
            "        [4., 5., 6.]], dtype=torch.float64)\n",
            "torch.int64\n",
            "tensor([[1, 2, 3],\n",
            "        [4, 5, 6]])\n"
          ]
        }
      ],
      "source": [
        "import torch # importando pytorch\n",
        "\n",
        "lista = [[1,2,3],[4,5,6]]\n",
        "\n",
        "tns = torch.FloatTensor(lista) #toch.Tensor(lista)\n",
        "print(tns.dtype)\n",
        "print(tns)\n",
        "\n",
        "tns = torch.DoubleTensor(lista)\n",
        "print(tns.dtype)\n",
        "print(tns)\n",
        "\n",
        "tns = torch.LongTensor(lista)\n",
        "print(tns.dtype)\n",
        "print(tns)"
      ]
    },
    {
      "cell_type": "markdown",
      "source": [
        "Outras formar de instancia tensores"
      ],
      "metadata": {
        "id": "jsX0hv7rZSBC"
      }
    },
    {
      "cell_type": "code",
      "source": [
        "import numpy as np\n",
        "\n",
        "arr = np.random.rand(3,4)\n",
        "tns = torch.from_numpy(arr)\n",
        "\n",
        "print(arr)\n",
        "print(arr.dtype)\n",
        "\n",
        "print(tns)\n",
        "print(tns.dtype)"
      ],
      "metadata": {
        "colab": {
          "base_uri": "https://localhost:8080/"
        },
        "id": "SBlSWoK-ZVfZ",
        "outputId": "951142f6-3610-4652-fb29-8d4ca476d0c9"
      },
      "execution_count": null,
      "outputs": [
        {
          "output_type": "stream",
          "name": "stdout",
          "text": [
            "[[0.6266158  0.47316241 0.55407222 0.79768471]\n",
            " [0.03569442 0.18987047 0.68265922 0.6530382 ]\n",
            " [0.91800032 0.05292196 0.39204099 0.91237891]]\n",
            "float64\n",
            "tensor([[0.6266, 0.4732, 0.5541, 0.7977],\n",
            "        [0.0357, 0.1899, 0.6827, 0.6530],\n",
            "        [0.9180, 0.0529, 0.3920, 0.9124]], dtype=torch.float64)\n",
            "torch.float64\n"
          ]
        }
      ]
    },
    {
      "cell_type": "markdown",
      "source": [
        "torch.ones() -> Cria um tensor preenchido por uns\n",
        "\n",
        "torch.zeros() -> Cria um tensor preenchido por zeros\n",
        "\n",
        "torch.randn() -> Cria um tensor preenchido por numeros rand"
      ],
      "metadata": {
        "id": "RKeheNrBvO7C"
      }
    },
    {
      "cell_type": "code",
      "source": [
        "tns1 = torch.ones(2,3)\n",
        "tns0 = torch.zeros(4,5)\n",
        "tnsr = torch.randn(3,3)\n",
        "\n",
        "print(tns1)\n",
        "print(tns0)\n",
        "print(tnsr)\n",
        "\n",
        "# tensor para array numpy\n",
        "arr = tnsr.data\n",
        "print(arr)"
      ],
      "metadata": {
        "colab": {
          "base_uri": "https://localhost:8080/"
        },
        "id": "gpB1Scdkua_q",
        "outputId": "e13e9102-17b8-48f2-bdd8-200dcfe149d9"
      },
      "execution_count": null,
      "outputs": [
        {
          "output_type": "stream",
          "name": "stdout",
          "text": [
            "tensor([[1., 1., 1.],\n",
            "        [1., 1., 1.]])\n",
            "tensor([[0., 0., 0., 0., 0.],\n",
            "        [0., 0., 0., 0., 0.],\n",
            "        [0., 0., 0., 0., 0.],\n",
            "        [0., 0., 0., 0., 0.]])\n",
            "tensor([[-0.8918, -2.4944, -0.0102],\n",
            "        [ 0.7263,  1.5234, -0.1938],\n",
            "        [-0.8115,  0.1318, -0.8984]])\n",
            "tensor([[-0.8918, -2.4944, -0.0102],\n",
            "        [ 0.7263,  1.5234, -0.1938],\n",
            "        [-0.8115,  0.1318, -0.8984]])\n"
          ]
        }
      ]
    },
    {
      "cell_type": "code",
      "source": [
        "\n",
        "if torch.cuda.is_available():\n",
        "  device = torch.device('cuda')\n",
        "else:\n",
        "  device = torch.device('cpu')\n",
        "\n",
        "print(device)\n",
        "\n",
        "tns = tns.to(device)\n",
        "print(tns)"
      ],
      "metadata": {
        "colab": {
          "base_uri": "https://localhost:8080/"
        },
        "id": "9PpkMIeFyoIr",
        "outputId": "8956e012-dc2d-47b5-ae38-b3e94f59ce43"
      },
      "execution_count": null,
      "outputs": [
        {
          "output_type": "stream",
          "name": "stdout",
          "text": [
            "cuda\n",
            "tensor([[1, 2, 3],\n",
            "        [4, 5, 6]], device='cuda:0')\n"
          ]
        }
      ]
    },
    {
      "cell_type": "code",
      "source": [
        "import torch\n",
        "tns = torch.randn(9, 12)\n",
        "tns1 = tns[0:5, 0:4]\n",
        "tns2 = tns[5:, 4:]\n",
        "\n",
        "resultado = torch.mm(tns1, tns2)\n",
        "print(resultado.size())"
      ],
      "metadata": {
        "colab": {
          "base_uri": "https://localhost:8080/"
        },
        "id": "COiIW1Wh0y-b",
        "outputId": "066be2dc-e3f6-4cee-8ef3-cf04966e9d4f"
      },
      "execution_count": null,
      "outputs": [
        {
          "output_type": "stream",
          "name": "stdout",
          "text": [
            "torch.Size([5, 8])\n"
          ]
        }
      ]
    },
    {
      "cell_type": "code",
      "source": [
        "import torch\n",
        "\n",
        "# Crie o tensor aleatório tns1 com dimensionalidade 7 x 7 x 3\n",
        "tns1 = torch.rand((7, 7, 3))\n",
        "\n",
        "# Crie o tensor aleatório tns2 com dimensionalidade 147 x 1\n",
        "tns2 = torch.rand((147, 1))\n",
        "\n",
        "# Modifique tns1 para ter a mesma dimensionalidade que tns2\n",
        "# Neste caso, você pode expandir as dimensões do tensor tns1 para (7, 7, 147, 3)\n",
        "tns1 = tns1.unsqueeze(2).expand(7, 7, 147, 3)\n",
        "\n",
        "# Some os dois tensores\n",
        "resultado = tns1 + tns2\n",
        "\n",
        "# Verifique as dimensões do resultado\n",
        "print(resultado.shape)\n"
      ],
      "metadata": {
        "id": "wYe1RKUX2FqU"
      },
      "execution_count": null,
      "outputs": []
    }
  ]
}